{
 "cells": [
  {
   "cell_type": "code",
   "execution_count": null,
   "metadata": {},
   "outputs": [],
   "source": [
    "import pandas as pd\n",
    "import numpy as np\n",
    "import matplotlib.pyplot as plt\n",
    "import seaborn as sns"
   ]
  },
  {
   "cell_type": "markdown",
   "metadata": {},
   "source": [
    "## 1.- Analisis exploratorio de datos"
   ]
  },
  {
   "cell_type": "code",
   "execution_count": null,
   "metadata": {},
   "outputs": [],
   "source": [
    "df = pd.read_csv('/home/davian/ml_proyects/ML-Practice/datasets/loan_data.csv')"
   ]
  },
  {
   "cell_type": "code",
   "execution_count": null,
   "metadata": {},
   "outputs": [],
   "source": [
    "df.head()"
   ]
  },
  {
   "cell_type": "code",
   "execution_count": null,
   "metadata": {},
   "outputs": [],
   "source": [
    "df.rename({\n",
    "    'person_age': 'edad',\n",
    "    'person_gender': 'genero',\n",
    "    'person_education': 'educacion',\n",
    "    'person_income': 'ingreso anual',\n",
    "    'person_emp_exp': 'experiencia laboral',\n",
    "    'person_home_ownership': 'vivienda',\n",
    "    'loan_amnt': 'monto prestamo',\n",
    "    'loan_intent': 'proposito',\n",
    "    'loan_int_rate': 'interes',\n",
    "    'loan_percent_income': 'porc. prest. año',  \n",
    "    'cb_person_cred_hist_length': 'dur. hist. cred.',\n",
    "    'credit_score': 'puntuacion cred.',\n",
    "    'previous_loan_defaults_on_file': 'ind. impagos',   \n",
    "    'loan_status': 'estado'\n",
    "}, axis=1, inplace=True)\n"
   ]
  },
  {
   "cell_type": "code",
   "execution_count": null,
   "metadata": {},
   "outputs": [],
   "source": [
    "df['proposito'].unique()"
   ]
  },
  {
   "cell_type": "code",
   "execution_count": null,
   "metadata": {},
   "outputs": [],
   "source": [
    "map_prop = {\n",
    "    'PERSONAL': 'pers.', \n",
    "    'EDUCATION': 'educ.', \n",
    "    'MEDICAL': 'med.', \n",
    "    'VENTURE': 'vent.', \n",
    "    'HOMEIMPROVEMENT': 'hom.impr.', \n",
    "    'DEBTCONSOLIDATION': 'debt.consol.',\n",
    "    }\n",
    "\n",
    "\n",
    "df['proposito'] = df['proposito'].map(map_prop)"
   ]
  },
  {
   "cell_type": "code",
   "execution_count": null,
   "metadata": {},
   "outputs": [],
   "source": [
    "df.info()"
   ]
  },
  {
   "cell_type": "code",
   "execution_count": null,
   "metadata": {},
   "outputs": [],
   "source": [
    "df.describe()"
   ]
  },
  {
   "cell_type": "code",
   "execution_count": null,
   "metadata": {},
   "outputs": [],
   "source": [
    "df.isnull().sum()"
   ]
  },
  {
   "cell_type": "code",
   "execution_count": null,
   "metadata": {},
   "outputs": [],
   "source": [
    "df.duplicated().sum()"
   ]
  },
  {
   "cell_type": "code",
   "execution_count": null,
   "metadata": {},
   "outputs": [],
   "source": [
    "df.isin([np.inf, -np.inf]).sum()"
   ]
  },
  {
   "cell_type": "markdown",
   "metadata": {},
   "source": [
    "### 1.- Analisis univariado "
   ]
  },
  {
   "cell_type": "code",
   "execution_count": null,
   "metadata": {},
   "outputs": [],
   "source": [
    "df_hist = ['edad','ingreso anual', 'experiencia laboral', 'monto prestamo', 'interes', 'porc. prest. año', 'dur. hist. cred.', 'puntuacion cred.']\n",
    "\n",
    "plt.figure(figsize=(20, 10))\n",
    "\n",
    "for i, columna in enumerate(df_hist, start=1):\n",
    "    plt.subplot(4, 4, i)\n",
    "    sns.histplot(data=df, x=columna, kde=True, bins=40)\n",
    "    plt.tight_layout()"
   ]
  },
  {
   "cell_type": "code",
   "execution_count": null,
   "metadata": {},
   "outputs": [],
   "source": [
    "df.info()"
   ]
  },
  {
   "cell_type": "code",
   "execution_count": null,
   "metadata": {},
   "outputs": [],
   "source": [
    "df_count = ['genero', 'educacion', 'vivienda', 'ind. impagos', 'proposito']\n",
    "\n",
    "plt.figure(figsize=(17, 7))\n",
    "\n",
    "for i, columna in enumerate(df_count, start=1):\n",
    "    plt.subplot(2, 3, i)\n",
    "    sns.countplot(data=df, x=columna)\n",
    "    plt.tight_layout()"
   ]
  },
  {
   "cell_type": "code",
   "execution_count": null,
   "metadata": {},
   "outputs": [],
   "source": [
    "df_box = ['edad','ingreso anual', 'experiencia laboral', 'monto prestamo', 'interes', 'porc. prest. año', 'dur. hist. cred.', 'puntuacion cred.']\n",
    "\n",
    "plt.figure(figsize=(20, 10))\n",
    "\n",
    "for i, columna in enumerate(df_box, start=1):\n",
    "    plt.subplot(4, 4, i)\n",
    "    sns.boxplot(data=df, x=columna, width=0.5)\n",
    "    plt.tight_layout()"
   ]
  },
  {
   "cell_type": "markdown",
   "metadata": {},
   "source": [
    "### B.- Analisis bivariado"
   ]
  },
  {
   "cell_type": "code",
   "execution_count": null,
   "metadata": {},
   "outputs": [],
   "source": [
    "df_scatter = ['edad','ingreso anual', 'experiencia laboral', 'monto prestamo', 'interes', 'porc. prest. año', 'dur. hist. cred.']\n",
    "\n",
    "plt.figure(figsize=(20, 10))\n",
    "\n",
    "for i, columna in enumerate(df_scatter, start=1):\n",
    "    plt.subplot(4, 4, i)\n",
    "    sns.scatterplot(data=df, x=columna, y='puntuacion cred.')\n",
    "    plt.tight_layout()"
   ]
  },
  {
   "cell_type": "code",
   "execution_count": null,
   "metadata": {},
   "outputs": [],
   "source": [
    "df_bar = ['genero', 'educacion', 'vivienda', 'ind. impagos', 'proposito']\n",
    "\n",
    "plt.figure(figsize=(16, 6))\n",
    "\n",
    "for i, columna in enumerate(df_bar, start=1):\n",
    "    plt.subplot(2, 3, i)\n",
    "    sns.barplot(data=df, x=columna, y='puntuacion cred.')\n",
    "    plt.tight_layout()"
   ]
  },
  {
   "cell_type": "code",
   "execution_count": null,
   "metadata": {},
   "outputs": [],
   "source": [
    "df_heat = df[['edad','ingreso anual', 'experiencia laboral', 'monto prestamo', 'interes', 'porc. prest. año', 'dur. hist. cred.', 'puntuacion cred.']]\n",
    "\n",
    "plt.figure(figsize=(10, 5))\n",
    "sns.heatmap(data=df_heat.corr(), annot=True)"
   ]
  },
  {
   "cell_type": "markdown",
   "metadata": {},
   "source": [
    "#### Conclusiones\n",
    "\n",
    "* Temos en todas las columnas numericas valores extremos.\n",
    "\n",
    "* Los valores mas determinantes para predecir la puntuacion crediticia son edad, experiencia laboral y ingreso anual.\n",
    "\n",
    "* (edad : exp. lab),  (edad : dur. hist. cred),  (exp. lab : dur. hist. cred.)  estan altamente relacionados.\n"
   ]
  },
  {
   "cell_type": "markdown",
   "metadata": {},
   "source": [
    "#### limpieza"
   ]
  },
  {
   "cell_type": "code",
   "execution_count": null,
   "metadata": {},
   "outputs": [],
   "source": [
    "# vamos a eliminar ingreso por simplisidad\n",
    "\n",
    "df.drop(['ingreso anual'], inplace=True, axis=1)"
   ]
  },
  {
   "cell_type": "code",
   "execution_count": null,
   "metadata": {},
   "outputs": [],
   "source": [
    "df['edad'] = df['edad'].clip(upper=38.0)\n",
    "df['monto prestamo'] = df['monto prestamo'].clip(lower=0, upper=23000)\n",
    "df['interes'] = df['interes'].clip(upper=19)\n",
    "df['porc. prest. año'] = df['porc. prest. año'].clip(upper=0.37)\n",
    "df['dur. hist. cred.'] = df['dur. hist. cred.'].clip(upper=15)\n",
    "df['puntuacion cred.'] = df['puntuacion cred.'].clip(lower=500, upper=770)\n"
   ]
  },
  {
   "cell_type": "code",
   "execution_count": null,
   "metadata": {},
   "outputs": [],
   "source": [
    "df_box = ['edad', 'monto prestamo', 'interes', 'porc. prest. año', 'dur. hist. cred.', 'puntuacion cred.']\n",
    "\n",
    "plt.figure(figsize=(20, 10))\n",
    "\n",
    "for i, columna in enumerate(df_box, start=1):\n",
    "    plt.subplot(4, 4, i)\n",
    "    sns.boxplot(data=df, x=columna, width=0.5)\n",
    "    plt.tight_layout()"
   ]
  },
  {
   "cell_type": "markdown",
   "metadata": {},
   "source": [
    "## 4.- Preprocesamiento"
   ]
  },
  {
   "cell_type": "markdown",
   "metadata": {},
   "source": [
    "#### A.- Transformacion de datos"
   ]
  },
  {
   "cell_type": "code",
   "execution_count": null,
   "metadata": {},
   "outputs": [],
   "source": [
    "x = df.drop('puntuacion cred.', axis=1)\n",
    "y = df['puntuacion cred.']\n",
    "\n",
    "from sklearn.model_selection import train_test_split\n",
    "\n",
    "x_train, x_test, y_train, y_test = train_test_split(x, y, test_size=0.2)"
   ]
  },
  {
   "cell_type": "code",
   "execution_count": null,
   "metadata": {},
   "outputs": [],
   "source": [
    "df.head()"
   ]
  },
  {
   "cell_type": "code",
   "execution_count": null,
   "metadata": {},
   "outputs": [],
   "source": [
    "#from sklearn.compose import make_column_selector, make_column_transformer\n",
    "#from sklearn.preprocessing import RobustScaler, OneHotEncoder\n",
    "\n",
    "# pipeline = make_column_transformer(\n",
    "  #  (RobustScaler(), make_column_selector(dtype_include=['int64', 'float64'])),\n",
    "   # (OneHotEncoder(handle_unknown='ignore', sparse_output=False), make_column_selector(dtype_include=['object']))\n",
    "#)"
   ]
  },
  {
   "cell_type": "code",
   "execution_count": null,
   "metadata": {},
   "outputs": [],
   "source": [
    "# x_prep = pipeline.fit_transform(x)"
   ]
  },
  {
   "cell_type": "code",
   "execution_count": null,
   "metadata": {},
   "outputs": [],
   "source": [
    "from sklearn.compose import make_column_transformer, make_column_selector\n",
    "from sklearn.preprocessing import RobustScaler, OneHotEncoder\n",
    "from sklearn.pipeline import Pipeline\n",
    "import pandas as pd\n",
    "\n",
    "pipeline = Pipeline([\n",
    "    ('preprocessor', make_column_transformer(\n",
    "        (RobustScaler(), make_column_selector(dtype_include=['int64', 'float64'])),\n",
    "        (OneHotEncoder(handle_unknown='ignore', sparse_output=False), make_column_selector(dtype_include=['object']))\n",
    "    )),\n",
    "]) "
   ]
  },
  {
   "cell_type": "code",
   "execution_count": null,
   "metadata": {},
   "outputs": [],
   "source": [
    "x_array = pipeline.fit_transform(x)"
   ]
  },
  {
   "cell_type": "code",
   "execution_count": null,
   "metadata": {},
   "outputs": [],
   "source": [
    "x_array"
   ]
  },
  {
   "cell_type": "code",
   "execution_count": null,
   "metadata": {},
   "outputs": [],
   "source": [
    "num_cols = x.select_dtypes(include=['int64', 'float64']).columns\n",
    "\n",
    "cat_cols = x.select_dtypes(include=['object']).columns\n",
    "onehot_encoder = pipeline.named_steps['preprocessor'].transformers_[1][1]\n",
    "cat_col_names = onehot_encoder.get_feature_names_out(cat_cols)\n",
    "\n",
    "# Combinar todos los nombres de columnas\n",
    "final_column_names = list(num_cols) + list(cat_col_names)\n",
    "\n",
    "# Crear el DataFrame transformado\n",
    "x_prep = pd.DataFrame(x_array, columns=final_column_names)"
   ]
  },
  {
   "cell_type": "code",
   "execution_count": null,
   "metadata": {},
   "outputs": [],
   "source": [
    "x_prep.head(\n",
    "    \n",
    ")"
   ]
  },
  {
   "cell_type": "code",
   "execution_count": null,
   "metadata": {},
   "outputs": [],
   "source": []
  },
  {
   "cell_type": "markdown",
   "metadata": {},
   "source": [
    "#### b.- Seleccion de caracteristicas"
   ]
  },
  {
   "cell_type": "code",
   "execution_count": null,
   "metadata": {},
   "outputs": [],
   "source": [
    "from sklearn.ensemble import RandomForestRegressor\n",
    "\n",
    "rf_model = RandomForestRegressor(n_estimators=10)\n",
    "\n",
    "rf_model.fit(x_prep, y)"
   ]
  },
  {
   "cell_type": "code",
   "execution_count": null,
   "metadata": {},
   "outputs": [],
   "source": [
    "feature_importance_df = pd.DataFrame(\n",
    "    {'feature': x_prep.columns, 'importances': rf_model.feature_importances_}\n",
    ").sort_values(by='importances', ascending=False)"
   ]
  },
  {
   "cell_type": "code",
   "execution_count": null,
   "metadata": {},
   "outputs": [],
   "source": [
    "feature_importance_df"
   ]
  },
  {
   "cell_type": "code",
   "execution_count": null,
   "metadata": {},
   "outputs": [],
   "source": [
    "plt.figure(figsize=(15, 7))\n",
    "sns.barplot(data=feature_importance_df, y='feature', x='importances')"
   ]
  },
  {
   "cell_type": "code",
   "execution_count": null,
   "metadata": {},
   "outputs": [],
   "source": [
    "x_red = x_prep[['interes', 'monto prestamo', 'porc. prest. año', 'edad', 'dur. hist. cred.', 'experiencia laboral']]"
   ]
  },
  {
   "cell_type": "markdown",
   "metadata": {},
   "source": [
    "## 5.- Entrenamiento"
   ]
  },
  {
   "cell_type": "code",
   "execution_count": null,
   "metadata": {},
   "outputs": [],
   "source": []
  },
  {
   "cell_type": "code",
   "execution_count": null,
   "metadata": {},
   "outputs": [],
   "source": []
  }
 ],
 "metadata": {
  "kernelspec": {
   "display_name": "Python 3",
   "language": "python",
   "name": "python3"
  },
  "language_info": {
   "codemirror_mode": {
    "name": "ipython",
    "version": 3
   },
   "file_extension": ".py",
   "mimetype": "text/x-python",
   "name": "python",
   "nbconvert_exporter": "python",
   "pygments_lexer": "ipython3",
   "version": "3.11.10"
  }
 },
 "nbformat": 4,
 "nbformat_minor": 2
}
